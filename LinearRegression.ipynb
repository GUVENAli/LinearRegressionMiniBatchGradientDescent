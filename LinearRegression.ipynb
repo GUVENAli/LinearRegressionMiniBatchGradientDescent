{
 "cells": [
  {
   "cell_type": "code",
   "execution_count": 1,
   "metadata": {},
   "outputs": [],
   "source": [
    "class LinearRegression(object):\n",
    "    # Inputs:\n",
    "    # data: numpy array\n",
    "    # label: numpy vector/array row size = sample size, column size = 1\n",
    "    import numpy as np\n",
    "    def __init__(self, data, label, batchSize = 32, learningRate = 0.1, maxEpoch = 100):\n",
    "        self.__data = data\n",
    "        self.__label = label\n",
    "        self.__learningRate = learningRate\n",
    "        self.__maxEpoch = maxEpoch\n",
    "        self.__weights = 0\n",
    "        self.__batchSize = batchSize\n",
    "\n",
    "    def __setWeights(self, weights):\n",
    "        self.__weights = weights\n",
    "\n",
    "    def __getWeights(self):\n",
    "        return self.__weights\n",
    "    \n",
    "    def prediction(data, weights):\n",
    "        return np.dot(data, weights)\n",
    "    \n",
    "    def linearRegFit(self):\n",
    "        # initialize weights\n",
    "        weights = np.random.randn(self.__data.shape[1]+1).reshape(-1,1)\n",
    "        self.__data = np.insert(self.__data, 0, 1.0, axis=1)\n",
    "        n_minibatches = len(self.__data) // self.__batchSize \n",
    "        for epoch in range(self.__maxEpoch):\n",
    "            # Mini Batch Gradient Descent\n",
    "            for samples in range(n_minibatches + 1):\n",
    "                dataMiniBatch = self.__data[samples * self.__batchSize:(samples + 1) * self.__batchSize,:]\n",
    "                labelMiniBatch = self.__label[samples * self.__batchSize:(samples + 1) * self.__batchSize,:]\n",
    "                if len(dataMiniBatch) == 0:\n",
    "                    break\n",
    "                predictions = np.dot(dataMiniBatch, weights).reshape(-1,1)\n",
    "                error = labelMiniBatch - predictions\n",
    "                gradient = np.dot(dataMiniBatch.T, error)\n",
    "                weights = weights + self.__learningRate*gradient\n",
    "            #predictions = np.dot(self.__data, weights).reshape(-1,1)\n",
    "            #error = self.__label - predictions\n",
    "            #gradient = np.dot(self.__data.T, error)\n",
    "            #weights = weights + self.__learningRate*gradient\n",
    "        self.__setWeights(weights)\n",
    "        return weights\n",
    "  \n",
    "    def scores(self):\n",
    "        weights = self.__getWeights()\n",
    "        predictions = np.dot(self.__data, weights).reshape(-1,1)\n",
    "        error = self.__label - predictions\n",
    "        errorSquare = error**2\n",
    "        mse = np.sum(errorSquare)\n",
    "        mse = mse / len(self.__data)\n",
    "        rmse = np.sqrt(mse)\n",
    "        return {\"MeanSquareError\" : mse, \"RootMeanSquareError\" : rmse}\n",
    "  \n",
    "    def linearRegPredict(self, data):\n",
    "        weights = self.__getWeights()\n",
    "        data = np.insert(data, 0, 1.0, axis=1)\n",
    "        predictions = np.dot(data, weights).reshape(-1,1)\n",
    "        return predictions"
   ]
  },
  {
   "cell_type": "code",
   "execution_count": 2,
   "metadata": {},
   "outputs": [],
   "source": [
    "import numpy as np\n",
    "X = np.array([[5,3],[3,2],[4,7],[6,8],[9,5]])\n",
    "y = np.array([[23],[15],[28],[36],[39]])\n",
    "obj = LinearRegression(X,y,4,0.001, 500)"
   ]
  },
  {
   "cell_type": "code",
   "execution_count": 3,
   "metadata": {},
   "outputs": [
    {
     "data": {
      "text/plain": [
       "array([[1.02052477],\n",
       "       [3.09889912],\n",
       "       [2.0683772 ]])"
      ]
     },
     "execution_count": 3,
     "metadata": {},
     "output_type": "execute_result"
    }
   ],
   "source": [
    "obj.linearRegFit()"
   ]
  },
  {
   "cell_type": "code",
   "execution_count": 4,
   "metadata": {},
   "outputs": [
    {
     "data": {
      "text/plain": [
       "{'MeanSquareError': 0.0954380204087429,\n",
       " 'RootMeanSquareError': 0.3089304459077203}"
      ]
     },
     "execution_count": 4,
     "metadata": {},
     "output_type": "execute_result"
    }
   ],
   "source": [
    "obj.scores()"
   ]
  },
  {
   "cell_type": "code",
   "execution_count": 5,
   "metadata": {},
   "outputs": [
    {
     "data": {
      "text/plain": [
       "array([[22.72015194],\n",
       "       [14.45397651],\n",
       "       [27.89476161],\n",
       "       [36.16093704],\n",
       "       [39.25250279]])"
      ]
     },
     "execution_count": 5,
     "metadata": {},
     "output_type": "execute_result"
    }
   ],
   "source": [
    "obj.linearRegPredict(np.array([[5,3],[3,2],[4,7],[6,8],[9,5]]))"
   ]
  }
 ],
 "metadata": {
  "kernelspec": {
   "display_name": "Python 3",
   "language": "python",
   "name": "python3"
  },
  "language_info": {
   "codemirror_mode": {
    "name": "ipython",
    "version": 3
   },
   "file_extension": ".py",
   "mimetype": "text/x-python",
   "name": "python",
   "nbconvert_exporter": "python",
   "pygments_lexer": "ipython3",
   "version": "3.7.1"
  }
 },
 "nbformat": 4,
 "nbformat_minor": 2
}
